{
  "nbformat": 4,
  "nbformat_minor": 0,
  "metadata": {
    "colab": {
      "name": "Untitled6.ipynb",
      "version": "0.3.2",
      "provenance": [],
      "include_colab_link": true
    },
    "kernelspec": {
      "name": "python3",
      "display_name": "Python 3"
    }
  },
  "cells": [
    {
      "cell_type": "markdown",
      "metadata": {
        "id": "view-in-github",
        "colab_type": "text"
      },
      "source": [
        "<a href=\"https://colab.research.google.com/github/yasamilten/Ayrik-Sistemler-Icin-Ileri-Olasilik/blob/master/Bernoulli.ipynb\" target=\"_parent\"><img src=\"https://colab.research.google.com/assets/colab-badge.svg\" alt=\"Open In Colab\"/></a>"
      ]
    },
    {
      "cell_type": "markdown",
      "metadata": {
        "id": "F5Ie_mHORBqk",
        "colab_type": "text"
      },
      "source": [
        "# BERNOULLİ DAĞILIMI\n",
        "\n",
        "Aynı koşullar altında kesikli bir rassal denemenin sonuçları olumlu-olumsuz, başarılıbaşarısız, geçti-kaldı şeklinde birbiriyle bağdaşmayan ve bütünün kapsayan iki sonuçlu olaylarda, gözlemlerde ya da deneylerde “BERNOULLİ DAĞILIMI” kullanılır. \n",
        "\n",
        "- Basarı olasılıgı ⇒ p, (0 < p < 1)\n",
        "\n",
        "- Basarısızlık olasılıgı ⇒ 1 - p\n",
        "\n",
        "Öğrencinin İstatistik dersinden geçme olasılığı p ise, İstatistik dersinden kalma olasılığı (1-p) olacaktır. X rassal değişkeninde öğrenci dersi geçerse x = 1 ve kalırsa x = 0 olarak tanımlansın. Bu durumda X rassal değişkeninin olasılık fonksiyonu şöyledir:\n",
        "\n",
        "- P ( X = x ) = p^x(1 – p)^(1-x)  , x = 0, 1 şeklinde gösterilir ve Bernoulli Olasılık Dağılımı denir.\n",
        "\n",
        "## Örnek \n",
        "\n",
        " Bir öğrenci İstatistik dersinden geçme olasılığının 0.7 olduğuna\n",
        "inanmaktadır. Olasılık dağılımının fonksiyonunu yazınız ? \n",
        "\n",
        "\n",
        "### Çözüm\n",
        "\n",
        "Öğrenci dersten geçerse X rassal değişkeni x = 1 ve kalırsa x = 0 değerini alırsa, X rassal değişkeninin olasılık dağılımı şöyle yazılabilir:\n",
        "\n",
        "- P (x=1) = 0.7 ve P (x=0) = 0.3 \n",
        "\n",
        "- Olasılık dağılım fonksiyonu: \n",
        " - P ( X = x ) = p^x(1 – p)^(1-x)  =  0.7^x(1-0.7)^(1-x) =0.7^x * 0.3^(1-x)\n",
        "\n",
        "- x’in alacağı 1 ve 0 değerlerine göre olasılık dağılımı aşağıdaki gibi bulunur\n",
        "\n",
        " -   P ( X = 1) = p^1(1 – p)^(1-1)   =   0.7^1(1-0.7)^(1-1) = 0.7^1 * 0.3^(1-1) = 0.7\n",
        " \n",
        " -   P ( X = 0) = p^0(1 – p)^(1-0)   =   0.7^0(1-0.7)^(1-0) = 0.7^0 * 0.3^(1-0) = 0.3"
      ]
    },
    {
      "cell_type": "markdown",
      "metadata": {
        "id": "WIgoCrR1chxb",
        "colab_type": "text"
      },
      "source": [
        "###   Bernoulli olasilik fonksiyonu  : girilen başarı oranına göre başarısızlık oranını da hesaplayarak kullanıcıya gösterir. Başarı oranı 0 ile 1 arasında olmalıdır bu yüzden bunun kontrolü de gerçekleştirilmiştir."
      ]
    },
    {
      "cell_type": "code",
      "metadata": {
        "id": "XdacegH1ciOI",
        "colab_type": "code",
        "colab": {}
      },
      "source": [
        "def Bernouilli(rate): #Bernoulli olasilik fonksiyonu  \n",
        "\n",
        "    if rate>0 and rate<1:\n",
        "        x=1\n",
        "        p=rate\n",
        "        print(\"P(X = 1) =\", p**x *(1-p)**(1-x))\n",
        "        x=0\n",
        "        print(\"P(X = 0) =\", p**x *(1-p)**(1-x))\n",
        "    else:\n",
        "        print(\"Başarı oranı(p) 0 ile 1 arasında olmalıdır. (0<p<1)\")"
      ],
      "execution_count": 0,
      "outputs": []
    },
    {
      "cell_type": "markdown",
      "metadata": {
        "id": "NQ7KNsUHc_hq",
        "colab_type": "text"
      },
      "source": [
        "### klavyeden girilen verinin sayisal deger oldugunu kontrol etme"
      ]
    },
    {
      "cell_type": "code",
      "metadata": {
        "id": "yhe_O3Qqc7KD",
        "colab_type": "code",
        "colab": {}
      },
      "source": [
        "def isNumeric(prompt): \n",
        "    while True:\n",
        "        response=input(prompt)\n",
        "        try:\n",
        "            return float(response)\n",
        "        except :\n",
        "            print(\"Lütfen sayısal değer giriniz\")"
      ],
      "execution_count": 0,
      "outputs": []
    },
    {
      "cell_type": "markdown",
      "metadata": {
        "id": "UsMyH4sldEx9",
        "colab_type": "text"
      },
      "source": [
        "### kullanıcıdan başarı oranı girilmesi istenir. "
      ]
    },
    {
      "cell_type": "code",
      "metadata": {
        "id": "q-JJA_9ddLAJ",
        "colab_type": "code",
        "colab": {
          "base_uri": "https://localhost:8080/",
          "height": 34
        },
        "outputId": "d09a6a0e-63d2-4e04-ac38-e0cf64a6a221"
      },
      "source": [
        "rate=isNumeric(\"Başarı oranını yazınız : \")\n"
      ],
      "execution_count": 11,
      "outputs": [
        {
          "output_type": "stream",
          "text": [
            "Başarı oranını yazınız : 0.2\n"
          ],
          "name": "stdout"
        }
      ]
    },
    {
      "cell_type": "markdown",
      "metadata": {
        "id": "hmKw0U7xdPOD",
        "colab_type": "text"
      },
      "source": [
        "### kullanıcıdan alınan başarı oranı Bernoulli fonksiyonuna gönderilir."
      ]
    },
    {
      "cell_type": "code",
      "metadata": {
        "id": "FUiLsZ5pdPgr",
        "colab_type": "code",
        "colab": {
          "base_uri": "https://localhost:8080/",
          "height": 51
        },
        "outputId": "22fb4673-fb54-4850-a36d-833affb02a11"
      },
      "source": [
        "Bernouilli(rate)"
      ],
      "execution_count": 12,
      "outputs": [
        {
          "output_type": "stream",
          "text": [
            "P(X = 1) = 0.2\n",
            "P(X = 0) = 0.8\n"
          ],
          "name": "stdout"
        }
      ]
    }
  ]
}