{
  "nbformat": 4,
  "nbformat_minor": 0,
  "metadata": {
    "colab": {
      "name": "Copy of Untitled3.ipynb",
      "version": "0.3.2",
      "provenance": [],
      "include_colab_link": true
    },
    "kernelspec": {
      "name": "python3",
      "display_name": "Python 3"
    }
  },
  "cells": [
    {
      "cell_type": "markdown",
      "metadata": {
        "id": "view-in-github",
        "colab_type": "text"
      },
      "source": [
        "<a href=\"https://colab.research.google.com/github/yasamilten/Ayrik-Sistemler-Icin-Ileri-Olasilik/blob/master/bayesTeoremi.ipynb\" target=\"_parent\"><img src=\"https://colab.research.google.com/assets/colab-badge.svg\" alt=\"Open In Colab\"/></a>"
      ]
    },
    {
      "metadata": {
        "id": "n9dTFu2XbsOH",
        "colab_type": "text"
      },
      "cell_type": "markdown",
      "source": [
        "*** Toplam kalem üretimin %30’unu A makinası, %50’sini B makinası geriye kalanını ise C makinası gerçeklestirmektedir. \n",
        "Bu makinaların üretimlerinin sırası ile %4’ü, %2’si ve %5’i kusurlu gerçeklestirilmektedir. Bir günlük üretimin ardından seçilen kalemin kusurlu olma olasılıgı nedir? ***\n",
        "\n",
        "\n",
        "#Çözüm :\n",
        "\n",
        "Bir günlük kalem üretimi 100x olsun.\n",
        "\n",
        "Bir günlük ;\n",
        "\n",
        " - A makinasının ürettiği kalem sayısı(%30): 100x.30/100=30x \n",
        "  \n",
        "    Kusurlu kalem sayısı(%4):30x.4/100=1.2x \n",
        "    \n",
        " - B makinasının ürettiği kalem sayısı(%50): 100x.50/100=50x \n",
        "  \n",
        "    Kusurlu kalem sayısı(%2):50x.2/100=x \n",
        "    \n",
        " - C makinasının ürettiği kalem sayısı(%20): 100x.20/100=20x\n",
        "  \n",
        "    Kusurlu kalem sayısı(%5):20x.5/100=x\n",
        "\n",
        " - Toplam kusurlu kalem sayısı= 3.2x\n",
        "\n",
        "-  Örnek uzay=Tüm üretim=100x\n",
        "  \n",
        "-  Olay= Kusurlu üretim=3.2x\n",
        "\n",
        "-  Olasılık değeri= Olay/Örnek uzay=3.2x/100x= %3.2\n",
        "\n",
        "\n",
        "***\n",
        "\n",
        "\n",
        "\n",
        "\n"
      ]
    },
    {
      "metadata": {
        "id": "5-4SKDDzcndq",
        "colab_type": "text"
      },
      "cell_type": "markdown",
      "source": [
        "***Bir sayinin verilen oranini hesaplama ORN: 100 ün %5 ini hesaplama(sayi 100,oran 5)***\n"
      ]
    },
    {
      "metadata": {
        "id": "aUG-Jdurbrwh",
        "colab_type": "code",
        "colab": {}
      },
      "cell_type": "code",
      "source": [
        "def oranHesapla(sayi,oran):\n",
        "  sayi=float(sayi)\n",
        "  sonuc=(sayi*oran)/100\n",
        "  return sonuc"
      ],
      "execution_count": 0,
      "outputs": []
    },
    {
      "metadata": {
        "id": "bKeOWRRcc0u-",
        "colab_type": "text"
      },
      "cell_type": "markdown",
      "source": [
        "***klavyeden girilen verinin sayisal deger oldugunu kontrol etme***\n"
      ]
    },
    {
      "metadata": {
        "id": "Z5nJ2Thzc4AX",
        "colab_type": "code",
        "colab": {}
      },
      "cell_type": "code",
      "source": [
        "def isNumeric(prompt):\n",
        "    while True:\n",
        "        response=input(prompt)\n",
        "        try:\n",
        "            return float(response)\n",
        "        except :\n",
        "            print(\"Lütfen sayısal değer giriniz\")\n"
      ],
      "execution_count": 0,
      "outputs": []
    },
    {
      "metadata": {
        "id": "90WgUbHTc6E1",
        "colab_type": "text"
      },
      "cell_type": "markdown",
      "source": [
        "***olasılık hesaplama***"
      ]
    },
    {
      "metadata": {
        "id": "ZQZzHeYMc6k8",
        "colab_type": "code",
        "colab": {}
      },
      "cell_type": "code",
      "source": [
        "def olasilikHesapla(olay,ornekUzay):\n",
        "  return float(olay/ornekUzay)"
      ],
      "execution_count": 0,
      "outputs": []
    },
    {
      "metadata": {
        "id": "1dPsLCWDdgYj",
        "colab_type": "text"
      },
      "cell_type": "markdown",
      "source": [
        "***a,b,c makinalarinin gunluk kalem uretimleri toplami, gunluk uretilen toplam kalem uretiminden fazla olamaz.***"
      ]
    },
    {
      "metadata": {
        "id": "Zz0O0_4fdivF",
        "colab_type": "code",
        "colab": {}
      },
      "cell_type": "code",
      "source": [
        "durum=True "
      ],
      "execution_count": 0,
      "outputs": []
    },
    {
      "metadata": {
        "id": "DX5_OXtcdlzK",
        "colab_type": "code",
        "outputId": "51c02e5a-3717-4752-8dea-7ec24735ae36",
        "colab": {
          "base_uri": "https://localhost:8080/",
          "height": 34
        }
      },
      "cell_type": "code",
      "source": [
        "gunlukKalemUretimi=isNumeric(\"Bir günlük kalem üretimini giriniz : \")"
      ],
      "execution_count": 0,
      "outputs": [
        {
          "output_type": "stream",
          "text": [
            "Bir günlük kalem üretimini giriniz : 100\n"
          ],
          "name": "stdout"
        }
      ]
    },
    {
      "metadata": {
        "id": "2qvBxKCcdqjQ",
        "colab_type": "code",
        "outputId": "52add4dc-ddc1-479b-e242-a8200ab2cdb2",
        "colab": {
          "base_uri": "https://localhost:8080/",
          "height": 153
        }
      },
      "cell_type": "code",
      "source": [
        "while durum:  \n",
        "  a_makinesiKalemUretimiOrani=isNumeric(\"\\nA makinasının günlük kalem üretim oranı : \")\n",
        "  b_makinesiKalemUretimiOrani=isNumeric(\"B makinasının günlük kalem üretim oranı : \")\n",
        "  c_makinesiKalemUretimiOrani=isNumeric(\"C makinasının günlük kalem üretim oranı : \")\n",
        "\n",
        "  toplamOran=a_makinesiKalemUretimiOrani+b_makinesiKalemUretimiOrani+c_makinesiKalemUretimiOrani\n",
        "  if(toplamOran>gunlukKalemUretimi):\n",
        "    print(\"Makinaların günlük toplam kalem üretimleri, günlük toplam üretimden fazla olamaz!\")\n",
        "    durum=True\n",
        "  else:\n",
        "    durum=False\n",
        "\n",
        "a_makinesiKusurluUretimOrani=isNumeric(\"\\nA makinasının kusurlu kalem üretim oranı : \")\n",
        "b_makinesiKusurluUretimOrani=isNumeric(\"B makinasının kusurlu kalem üretim oranı : \")\n",
        "c_makinesiKusurluUretimOrani=isNumeric(\"C makinasının kusurlu kalem üretim oranı : \")"
      ],
      "execution_count": 0,
      "outputs": [
        {
          "output_type": "stream",
          "text": [
            "\n",
            "A makinasının günlük kalem üretim oranı : 30\n",
            "B makinasının günlük kalem üretim oranı : 50\n",
            "C makinasının günlük kalem üretim oranı : 20\n",
            "\n",
            "A makinasının kusurlu kalem üretim oranı : 4\n",
            "B makinasının kusurlu kalem üretim oranı : 2\n",
            "C makinasının kusurlu kalem üretim oranı : 5\n"
          ],
          "name": "stdout"
        }
      ]
    },
    {
      "metadata": {
        "id": "5v8P4GQdduXo",
        "colab_type": "text"
      },
      "cell_type": "markdown",
      "source": [
        "***Makinalarin bir günde ürettikleri toplam kalem sayilari***"
      ]
    },
    {
      "metadata": {
        "id": "xUSuylHxdwoA",
        "colab_type": "code",
        "colab": {}
      },
      "cell_type": "code",
      "source": [
        "a_makinasininGunlukKalemUretimi=oranHesapla(gunlukKalemUretimi,a_makinesiKalemUretimiOrani)\n",
        "\n",
        "b_makinasininGunlukKalemUretimi=oranHesapla(gunlukKalemUretimi,b_makinesiKalemUretimiOrani)\n",
        "\n",
        "c_makinasininGunlukKalemUretimi=oranHesapla(gunlukKalemUretimi,c_makinesiKalemUretimiOrani)"
      ],
      "execution_count": 0,
      "outputs": []
    },
    {
      "metadata": {
        "id": "N-zJLoZddy4O",
        "colab_type": "text"
      },
      "cell_type": "markdown",
      "source": [
        "***Makinalarin bir günde ürettikleri toplam kusurlu kalem sayisi***"
      ]
    },
    {
      "metadata": {
        "id": "aEieaRFbd1XM",
        "colab_type": "code",
        "colab": {}
      },
      "cell_type": "code",
      "source": [
        "a_makinasininGunlukKusurluKalemUretimi=oranHesapla(a_makinasininGunlukKalemUretimi,a_makinesiKusurluUretimOrani)\n",
        "\n",
        "b_makinasininGunlukKusurluKalemUretimi=oranHesapla(b_makinasininGunlukKalemUretimi,b_makinesiKusurluUretimOrani)\n",
        "\n",
        "c_makinasininGunlukKusurluKalemUretimi=oranHesapla(c_makinasininGunlukKalemUretimi,c_makinesiKusurluUretimOrani)\n"
      ],
      "execution_count": 0,
      "outputs": []
    },
    {
      "metadata": {
        "id": "NzmCHNCad6le",
        "colab_type": "code",
        "colab": {}
      },
      "cell_type": "code",
      "source": [
        "ornekUzay=gunlukKalemUretimi\n",
        "olay=a_makinasininGunlukKusurluKalemUretimi+b_makinasininGunlukKusurluKalemUretimi+c_makinasininGunlukKusurluKalemUretimi"
      ],
      "execution_count": 0,
      "outputs": []
    },
    {
      "metadata": {
        "id": "lWuBC01wd7KE",
        "colab_type": "code",
        "outputId": "d8a518b8-7d9d-4b12-e505-d035872f9b69",
        "colab": {
          "base_uri": "https://localhost:8080/",
          "height": 51
        }
      },
      "cell_type": "code",
      "source": [
        "\n",
        "olasilikDegeri=olasilikHesapla(olay,ornekUzay)\n",
        "print(\"\\nOlasılık değeri: %\",olasilikDegeri*100)"
      ],
      "execution_count": 0,
      "outputs": [
        {
          "output_type": "stream",
          "text": [
            "\n",
            "Olasılık değeri: % 3.2\n"
          ],
          "name": "stdout"
        }
      ]
    }
  ]
}