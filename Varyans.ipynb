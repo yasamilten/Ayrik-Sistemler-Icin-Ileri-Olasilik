{
  "nbformat": 4,
  "nbformat_minor": 0,
  "metadata": {
    "colab": {
      "name": "Untitled8.ipynb",
      "version": "0.3.2",
      "provenance": [],
      "include_colab_link": true
    },
    "kernelspec": {
      "name": "python3",
      "display_name": "Python 3"
    }
  },
  "cells": [
    {
      "cell_type": "markdown",
      "metadata": {
        "id": "view-in-github",
        "colab_type": "text"
      },
      "source": [
        "<a href=\"https://colab.research.google.com/github/yasamilten/Ayrik-Sistemler-Icin-Ileri-Olasilik/blob/master/Varyans.ipynb\" target=\"_parent\"><img src=\"https://colab.research.google.com/assets/colab-badge.svg\" alt=\"Open In Colab\"/></a>"
      ]
    },
    {
      "cell_type": "markdown",
      "metadata": {
        "id": "nxU3Lt6vhwEZ",
        "colab_type": "text"
      },
      "source": [
        "# Varyans \n",
        "\n",
        "- Şans Değişkeni : Bir dağılışı olan ve bu dağılışın yapısına uygun frekansta oluşum gösteren değişkendir.\n",
        "\n",
        "- Beklenen Değer :Bir şans değişkeninin herhangi bir olasılık fonksiyonunda almış olduğu tüm değerlerin ortalaması o şans değişkeninin beklenen değeridir.\n",
        "\n",
        "- X şans değişkeninin beklenen değeri; E(x) ile gösterilir.\n",
        "\n",
        "- Bir şans değişkenin beklenen değeri o şans değişkeninin ortalamasına eşittir. E (x) = µ\n",
        " \n",
        "  - E(x)=x1.P1 + x2.P2 + ..... xn.Pn\n",
        "  \n",
        "  - Var(x)=E(x^2) - [E(x)]^2\n",
        "  \n",
        "  - Var(x)= E(x-u)^2\n",
        "  \n",
        "  \n",
        "  ##  ÖRNEK \n",
        "  \n",
        "  Bir kitaptaki bir sayfadaki yanlış sayısı ile ilgili X’in olasılık fonksiyonu şöyledir:\n",
        "\n",
        "     • P(x=0)=0.81 hiç yanlış olmaması\n",
        "     • P(x=1)=0.17 bir yanlış olması\n",
        "     • P(x=2)=0.02 iki yanlış olması\n",
        "     \n",
        "Sayfa başına ortalama yanlış sayısını bulunuz.\n",
        "\n",
        "Varyansını bulunuz.\n",
        "\n",
        "### ÇÖZÜM\n",
        "\n",
        "- E(x)= x1.P1 + x2.P2 + x3.P3\n",
        "\n",
        "- E(x)= 0.(0.81) + 1.(0.17) + 2.(0.02) = 0.21  -> sayfa başı ortalama 0.21 yanlış bulunur\n",
        "\n",
        "\n",
        "- E(x^2)=x1^2.P1 + x2^2.P2 + x3^2.P3\n",
        "\n",
        "- E(x^2)=0^2.(0.81) + 1^2.(0.17) + 2^2.(0.02)=0.25\n",
        "\n",
        "- Var(x)=E(x^2) - [E(x)]^2 = 0.25 - 0.21^2 = 0.2059 -> Sayfa başına yanlış sayısının varyansı"
      ]
    },
    {
      "cell_type": "markdown",
      "metadata": {
        "id": "gC-oImt7itDB",
        "colab_type": "text"
      },
      "source": [
        "#### Beklenen degeri bulan fonksiyon"
      ]
    },
    {
      "cell_type": "code",
      "metadata": {
        "id": "8kMwKcbfhvcl",
        "colab_type": "code",
        "colab": {}
      },
      "source": [
        "def beklenenDegerBul(olasilikFonksiyonu):  \n",
        "    beklenenDeger=0\n",
        "\n",
        "    for key,val in olasilikFonksiyonu.items():\n",
        "        beklenenDeger+=key*val\n",
        "    return beklenenDeger       \n"
      ],
      "execution_count": 0,
      "outputs": []
    },
    {
      "cell_type": "markdown",
      "metadata": {
        "id": "tY33Z3YSivzf",
        "colab_type": "text"
      },
      "source": [
        "#### Varyansı bulan fonksiyon"
      ]
    },
    {
      "cell_type": "code",
      "metadata": {
        "id": "wW38eyonizPn",
        "colab_type": "code",
        "colab": {}
      },
      "source": [
        "def varyansBul(olasilikFonksiyonu): \n",
        "\n",
        "    beklenenDeger=0\n",
        "    for key,val in olasilikFonksiyonu.items():\n",
        "        beklenenDeger+=key*val\n",
        "\n",
        "    beklenenDegerKaresi=0\n",
        "    for key,val in olasilikFonksiyonu.items():\n",
        "        beklenenDegerKaresi+=(key**2)*val\n",
        "\n",
        "    return beklenenDegerKaresi-beklenenDeger**2"
      ],
      "execution_count": 0,
      "outputs": []
    },
    {
      "cell_type": "code",
      "metadata": {
        "id": "IOZb-3Gsi5Ix",
        "colab_type": "code",
        "outputId": "8c49b138-9161-4dca-d13e-fea02c23e8c3",
        "colab": {
          "base_uri": "https://localhost:8080/",
          "height": 51
        }
      },
      "source": [
        "def main():\n",
        "    fonksiyonListesi={0:0.81,1:0.17,2:0.02}\n",
        "\n",
        "    beklenenDeger=round(beklenenDegerBul(fonksiyonListesi),2)\n",
        "    varyans=varyansBul(fonksiyonListesi)\n",
        "\n",
        "    print(\"Sayfa başı ortalama\",beklenenDeger,\" yanlış bulunur\")\n",
        "    print(\"Sayfa başına yanlış sayısının varyansı :\",varyans)\n",
        "\n",
        " \n",
        "if __name__ == '__main__':\n",
        "        main()\n",
        "   "
      ],
      "execution_count": 0,
      "outputs": [
        {
          "output_type": "stream",
          "text": [
            "Sayfa başı ortalama 0.21  yanlış bulunur\n",
            "Sayfa başına yanlış sayısının varyansı : 0.2059\n"
          ],
          "name": "stdout"
        }
      ]
    }
  ]
}