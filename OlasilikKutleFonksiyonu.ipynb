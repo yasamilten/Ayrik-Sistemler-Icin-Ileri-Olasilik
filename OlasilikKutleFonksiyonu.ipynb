{
  "nbformat": 4,
  "nbformat_minor": 0,
  "metadata": {
    "colab": {
      "name": "Untitled5.ipynb",
      "version": "0.3.2",
      "provenance": [],
      "collapsed_sections": [],
      "include_colab_link": true
    },
    "kernelspec": {
      "name": "python3",
      "display_name": "Python 3"
    }
  },
  "cells": [
    {
      "cell_type": "markdown",
      "metadata": {
        "id": "view-in-github",
        "colab_type": "text"
      },
      "source": [
        "<a href=\"https://colab.research.google.com/github/yasamilten/Ayrik-Sistemler-Icin-Ileri-Olasilik/blob/master/OlasilikKutleFonksiyonu.ipynb\" target=\"_parent\"><img src=\"https://colab.research.google.com/assets/colab-badge.svg\" alt=\"Open In Colab\"/></a>"
      ]
    },
    {
      "cell_type": "markdown",
      "metadata": {
        "id": "QwfwGKOvWhuh",
        "colab_type": "text"
      },
      "source": [
        "**Bir para 3 kez atılıyor. Yazı gelmelerinin sayısına ait kesikli olasılık dagılımını bulunuz.**"
      ]
    },
    {
      "cell_type": "markdown",
      "metadata": {
        "id": "1A6MUiEiW7EG",
        "colab_type": "text"
      },
      "source": [
        "**ÇÖZÜM**\n",
        "\n",
        "- Para atıldığında oluşabilecek tüm durumların listesi aşağıdadır.\n",
        "\n",
        "     S={TTT, TTY, TYT, YTT, TYY, YTY, YYT, YYY}  \n",
        "     \n",
        "- Para atıldığında yazı gelme durumları ;\n",
        "\n",
        "  - Hiç yazı olmaması =1 kez    P(X=0) \n",
        "  - 1 tane yazı olması = 3 kez    P(X=1)\n",
        "  - 2 tane yazı olması = 3 kez    P(X=2)\n",
        "  - 3 tane yazı olması = 1 kez    P(X=3)"
      ]
    },
    {
      "cell_type": "markdown",
      "metadata": {
        "id": "Z5RxKwZTYdoz",
        "colab_type": "text"
      },
      "source": [
        "**P(X=0)**"
      ]
    },
    {
      "cell_type": "code",
      "metadata": {
        "id": "I8PKrnYtYmnT",
        "colab_type": "code",
        "colab": {}
      },
      "source": [
        "x_value_0=1/2*1/2*1/2"
      ],
      "execution_count": 0,
      "outputs": []
    },
    {
      "cell_type": "markdown",
      "metadata": {
        "id": "06SL7hrUZiAz",
        "colab_type": "text"
      },
      "source": [
        "**P(X=1)**"
      ]
    },
    {
      "cell_type": "code",
      "metadata": {
        "id": "uxp31ZXwZktL",
        "colab_type": "code",
        "colab": {}
      },
      "source": [
        "x_value_1=3*(1/2*1/2*1/2)"
      ],
      "execution_count": 0,
      "outputs": []
    },
    {
      "cell_type": "markdown",
      "metadata": {
        "id": "ysTC0eOzZxh6",
        "colab_type": "text"
      },
      "source": [
        "**P(X=2)**"
      ]
    },
    {
      "cell_type": "code",
      "metadata": {
        "id": "HXKtNIzOZ0nL",
        "colab_type": "code",
        "colab": {}
      },
      "source": [
        "x_value_2=3*(1/2*1/2*1/2)"
      ],
      "execution_count": 0,
      "outputs": []
    },
    {
      "cell_type": "markdown",
      "metadata": {
        "id": "4BahIHAwatER",
        "colab_type": "text"
      },
      "source": [
        "**P(X=3)**"
      ]
    },
    {
      "cell_type": "code",
      "metadata": {
        "id": "WN1Rh4hcaxKq",
        "colab_type": "code",
        "colab": {}
      },
      "source": [
        "x_value_3=1/2*1/2*1/2"
      ],
      "execution_count": 0,
      "outputs": []
    },
    {
      "cell_type": "code",
      "metadata": {
        "id": "8V9rLOuca6EK",
        "colab_type": "code",
        "colab": {
          "base_uri": "https://localhost:8080/",
          "height": 89
        },
        "outputId": "81523d8e-4387-4109-c5f6-020490194216"
      },
      "source": [
        "print(\"P(X=0) : \",x_value_0)\n",
        "print(\"P(X=1) : \",x_value_1)\n",
        "print(\"P(X=2) : \",x_value_2)\n",
        "print(\"P(X=3) : \",x_value_3)"
      ],
      "execution_count": 31,
      "outputs": [
        {
          "output_type": "stream",
          "text": [
            "P(X=0) :  0.125\n",
            "P(X=1) :  0.375\n",
            "P(X=2) :  0.375\n",
            "P(X=3) :  0.125\n"
          ],
          "name": "stdout"
        }
      ]
    },
    {
      "cell_type": "markdown",
      "metadata": {
        "id": "zBivv9uDfegk",
        "colab_type": "text"
      },
      "source": [
        "- **Sonuçları Grafik Üzerinde Gösterme**"
      ]
    },
    {
      "cell_type": "code",
      "metadata": {
        "id": "nx3vNk2ub5Dn",
        "colab_type": "code",
        "colab": {
          "base_uri": "https://localhost:8080/",
          "height": 295
        },
        "outputId": "eda238a6-b365-4f28-ad0c-963a153678bb"
      },
      "source": [
        "\n",
        "import numpy as np\n",
        "import matplotlib.pyplot as plt\n",
        "\n",
        "objects = ('0','1','2','3')\n",
        "incomes = (x_value_0,x_value_1,x_value_2,x_value_3)\n",
        "y_post = np.arange(len(objects))\n",
        "\n",
        "\n",
        "plt.bar(y_post, incomes,align='center',alpha=1)\n",
        "plt.xticks(y_post,objects)\n",
        "plt.ylabel('Gelir')\n",
        "plt.xlabel('P(X)')\n",
        "plt.title('PMF')\n",
        "plt.show()"
      ],
      "execution_count": 32,
      "outputs": [
        {
          "output_type": "display_data",
          "data": {
            "image/png": "[encoded data removed]",
            "text/plain": [
              "<Figure size 432x288 with 1 Axes>"
            ]
          },
          "metadata": {
            "tags": []
          }
        }
      ]
    }
  ]
}