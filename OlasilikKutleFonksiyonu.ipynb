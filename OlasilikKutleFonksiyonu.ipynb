{
  "nbformat": 4,
  "nbformat_minor": 0,
  "metadata": {
    "colab": {
      "name": "Untitled5.ipynb",
      "version": "0.3.2",
      "provenance": [],
      "include_colab_link": true
    },
    "kernelspec": {
      "name": "python3",
      "display_name": "Python 3"
    }
  },
  "cells": [
    {
      "cell_type": "markdown",
      "metadata": {
        "id": "view-in-github",
        "colab_type": "text"
      },
      "source": [
        "<a href=\"https://colab.research.google.com/github/yasamilten/Ayrik-Sistemler-Icin-Ileri-Olasilik/blob/master/OlasilikKutleFonksiyonu.ipynb\" target=\"_parent\"><img src=\"https://colab.research.google.com/assets/colab-badge.svg\" alt=\"Open In Colab\"/></a>"
      ]
    },
    {
      "cell_type": "markdown",
      "metadata": {
        "id": "QwfwGKOvWhuh",
        "colab_type": "text"
      },
      "source": [
        "**Bir para 3 kez atılıyor. Yazı gelmelerinin sayısına ait kesikli olasılık dagılımını bulunuz.**"
      ]
    },
    {
      "cell_type": "markdown",
      "metadata": {
        "id": "1A6MUiEiW7EG",
        "colab_type": "text"
      },
      "source": [
        "**ÇÖZÜM**\n",
        "\n",
        "- Para atıldığında oluşabilecek tüm durumların listesi aşağıdadır.\n",
        "\n",
        "     S={TTT, TTY, TYT, YTT, TYY, YTY, YYT, YYY}  \n",
        "     \n",
        "- Para atıldığında yazı gelme durumu ;\n",
        "\n",
        "  - Hiç yazı gelmez       P(X=0)\n",
        "  - 1 tanesi yazı gelir    P(X=1)\n",
        "  - 2 tanesi yazı gelir    P(X=2)\n",
        "  - 3 tanesi yazı gelir    P(X=3)"
      ]
    },
    {
      "cell_type": "markdown",
      "metadata": {
        "id": "Z5RxKwZTYdoz",
        "colab_type": "text"
      },
      "source": [
        "**P(X=0)**"
      ]
    },
    {
      "cell_type": "code",
      "metadata": {
        "id": "I8PKrnYtYmnT",
        "colab_type": "code",
        "colab": {}
      },
      "source": [
        "x_value=1/2*1/2*1/2"
      ],
      "execution_count": 0,
      "outputs": []
    }
  ]
}