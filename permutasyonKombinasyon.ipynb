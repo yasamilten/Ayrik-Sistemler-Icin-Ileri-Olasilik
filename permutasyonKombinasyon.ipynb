{
  "nbformat": 4,
  "nbformat_minor": 0,
  "metadata": {
    "colab": {
      "name": "Untitled2.ipynb",
      "version": "0.3.2",
      "provenance": [],
      "include_colab_link": true
    },
    "kernelspec": {
      "name": "python3",
      "display_name": "Python 3"
    }
  },
  "cells": [
    {
      "cell_type": "markdown",
      "metadata": {
        "id": "view-in-github",
        "colab_type": "text"
      },
      "source": [
        "<a href=\"https://colab.research.google.com/github/yasamilten/Ayrik-Sistemler-Icin-Ileri-Olasilik/blob/master/permutasyonKombinasyon.ipynb\" target=\"_parent\"><img src=\"https://colab.research.google.com/assets/colab-badge.svg\" alt=\"Open In Colab\"/></a>"
      ]
    },
    {
      "metadata": {
        "id": "mE4yDq1leZt6",
        "colab_type": "text"
      },
      "cell_type": "markdown",
      "source": [
        "#### Faktoriyel hesaplayan fonksiyon\n"
      ]
    },
    {
      "metadata": {
        "id": "AmPAfekueY5t",
        "colab_type": "code",
        "colab": {}
      },
      "cell_type": "code",
      "source": [
        "def factorial(number): \n",
        "    fact = 1\n",
        "    while number >= 1:\n",
        "        fact = fact * number\n",
        "        number = number - 1\n",
        "    return fact\n"
      ],
      "execution_count": 0,
      "outputs": []
    },
    {
      "metadata": {
        "id": "t-sR7piffq8L",
        "colab_type": "text"
      },
      "cell_type": "markdown",
      "source": [
        "#### Kombinasyon hesaplayan fonksiyon"
      ]
    },
    {
      "metadata": {
        "id": "izQ1itv1fvC5",
        "colab_type": "code",
        "colab": {}
      },
      "cell_type": "code",
      "source": [
        "def combination(n,r): \n",
        "    if n==0 or r==0:\n",
        "        return 1\n",
        "    else:\n",
        "        return factorial(n)/(factorial(n-r)*factorial(r))\n"
      ],
      "execution_count": 0,
      "outputs": []
    },
    {
      "metadata": {
        "id": "MxHWmJuMg6t2",
        "colab_type": "text"
      },
      "cell_type": "markdown",
      "source": [
        "#### Kombinasyon örneğinden gelen verilerle hesaplama yapar."
      ]
    },
    {
      "metadata": {
        "id": "6_oaqLrbhqHt",
        "colab_type": "code",
        "colab": {}
      },
      "cell_type": "code",
      "source": [
        "def findOlasilikKombinasyon():\n",
        "    return (combination(4,1)*combination(5,2))/combination(9,3)"
      ],
      "execution_count": 0,
      "outputs": []
    },
    {
      "metadata": {
        "id": "2VEUEtYZhrhY",
        "colab_type": "text"
      },
      "cell_type": "markdown",
      "source": [
        "#### Permütasyon örneğinden gelen verilerle hesaplama yapar."
      ]
    },
    {
      "metadata": {
        "id": "3tEEzOgkhrtM",
        "colab_type": "code",
        "colab": {}
      },
      "cell_type": "code",
      "source": [
        "def findOlasilikPermutasyon():\n",
        "    return (factorial(4)-(factorial(3)*factorial(2)))/factorial(4)\n"
      ],
      "execution_count": 0,
      "outputs": []
    },
    {
      "metadata": {
        "id": "j58CSAf9h3Ls",
        "colab_type": "text"
      },
      "cell_type": "markdown",
      "source": [
        "#### KOMBİNASYON"
      ]
    },
    {
      "metadata": {
        "id": "6ZQUUeTMiCLV",
        "colab_type": "code",
        "colab": {
          "base_uri": "https://localhost:8080/",
          "height": 85
        },
        "outputId": "f5deca78-aeee-41f5-e916-0eab7dad9c1c"
      },
      "cell_type": "code",
      "source": [
        "\n",
        "print(\"Olasılık :KOMBİNASYON\")\n",
        "result_olasilikKombinasyon=findOlasilikKombinasyon()\n",
        "print(\"4 doktor, 5 hemsire arasından 3 kisilik ekip seçilecektir. Seçilenler arasında 1 doktor 2 hemsire olma olasılıgı:\",result_olasilikKombinasyon)\n",
        "print(\"\\n\")"
      ],
      "execution_count": 5,
      "outputs": [
        {
          "output_type": "stream",
          "text": [
            "Olasılık :KOMBİNASYON\n",
            "4 doktor, 5 hemsire arasından 3 kisilik ekip seçilecektir. Seçilenler arasında 1 doktor 2 hemsire olma olasılıgı: 0.47619047619047616\n",
            "\n",
            "\n"
          ],
          "name": "stdout"
        }
      ]
    },
    {
      "metadata": {
        "id": "Lh9_lsgPiDB3",
        "colab_type": "text"
      },
      "cell_type": "markdown",
      "source": [
        "#### PERMÜTASYON"
      ]
    },
    {
      "metadata": {
        "id": "s7mQmWjViFhv",
        "colab_type": "code",
        "colab": {
          "base_uri": "https://localhost:8080/",
          "height": 51
        },
        "outputId": "042cb191-6012-4a24-f4a1-55a71425de4b"
      },
      "cell_type": "code",
      "source": [
        "print(\"Olasılık :PERMUTASYON\")\n",
        "result_olasilikPermutasyon=findOlasilikPermutasyon()\n",
        "print(\"Anne, baba ve 3 çocuktan olusan bir aile yuvarlak masa etrafına oturacaklardır. Anne ile babanın yanyana oturmaMA olasılıgı:\",result_olasilikPermutasyon)"
      ],
      "execution_count": 6,
      "outputs": [
        {
          "output_type": "stream",
          "text": [
            "Olasılık :PERMUTASYON\n",
            "Anne, baba ve 3 çocuktan olusan bir aile yuvarlak masa etrafına oturacaklardır. Anne ile babanın yanyana oturmaMA olasılıgı: 0.5\n"
          ],
          "name": "stdout"
        }
      ]
    }
  ]
}