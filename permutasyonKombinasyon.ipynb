{
  "nbformat": 4,
  "nbformat_minor": 0,
  "metadata": {
    "colab": {
      "name": "Untitled2.ipynb",
      "version": "0.3.2",
      "provenance": [],
      "include_colab_link": true
    },
    "kernelspec": {
      "name": "python3",
      "display_name": "Python 3"
    }
  },
  "cells": [
    {
      "cell_type": "markdown",
      "metadata": {
        "id": "view-in-github",
        "colab_type": "text"
      },
      "source": [
        "<a href=\"https://colab.research.google.com/github/yasamilten/Ayrik-Sistemler-Icin-Ileri-Olasilik/blob/master/permutasyonKombinasyon.ipynb\" target=\"_parent\"><img src=\"https://colab.research.google.com/assets/colab-badge.svg\" alt=\"Open In Colab\"/></a>"
      ]
    },
    {
      "metadata": {
        "id": "mE4yDq1leZt6",
        "colab_type": "text"
      },
      "cell_type": "markdown",
      "source": [
        "### Faktoriyel hesaplayan fonksiyon\n"
      ]
    },
    {
      "metadata": {
        "id": "AmPAfekueY5t",
        "colab_type": "code",
        "colab": {}
      },
      "cell_type": "code",
      "source": [
        "def factorial(number): \n",
        "    fact = 1\n",
        "    while number >= 1:\n",
        "        fact = fact * number\n",
        "        number = number - 1\n",
        "    return fact\n"
      ],
      "execution_count": 0,
      "outputs": []
    },
    {
      "metadata": {
        "id": "t-sR7piffq8L",
        "colab_type": "text"
      },
      "cell_type": "markdown",
      "source": [
        "### Kombinasyon hesaplayan fonksiyon"
      ]
    },
    {
      "metadata": {
        "id": "izQ1itv1fvC5",
        "colab_type": "code",
        "colab": {}
      },
      "cell_type": "code",
      "source": [
        "def combination(n,r): \n",
        "    if n==0 or r==0:\n",
        "        return 1\n",
        "    else:\n",
        "        return factorial(n)/(factorial(n-r)*factorial(r))\n"
      ],
      "execution_count": 0,
      "outputs": []
    },
    {
      "metadata": {
        "id": "2m3nNk_Zq2PH",
        "colab_type": "text"
      },
      "cell_type": "markdown",
      "source": [
        "### Permütasyon hesaplayan fonksiyon"
      ]
    },
    {
      "metadata": {
        "id": "WtUegQiDq6g5",
        "colab_type": "code",
        "colab": {}
      },
      "cell_type": "code",
      "source": [
        "def permutasyon(n,x):  \n",
        "   return factorial(n)/factorial(n-x)"
      ],
      "execution_count": 0,
      "outputs": []
    },
    {
      "metadata": {
        "id": "dsHefSbzagvs",
        "colab_type": "text"
      },
      "cell_type": "markdown",
      "source": [
        "### Klavyeden girilen verinin sayisal değer olduğunu kontrol etme"
      ]
    },
    {
      "metadata": {
        "id": "-knEzxHTaejF",
        "colab_type": "code",
        "colab": {}
      },
      "cell_type": "code",
      "source": [
        "def isNumeric(prompt): \n",
        "    while True:\n",
        "        response=input(prompt)\n",
        "        try:\n",
        "            return float(response)\n",
        "        except :\n",
        "            print(\"Lütfen sayısal değer giriniz\")\n"
      ],
      "execution_count": 0,
      "outputs": []
    },
    {
      "metadata": {
        "id": "yZG0JFFsgJTs",
        "colab_type": "text"
      },
      "cell_type": "markdown",
      "source": [
        "### Yapılacak işlemi belirleme (Kombinasyon mu permütasyon mu yapılacak)"
      ]
    },
    {
      "metadata": {
        "id": "vHPMhe-FrJtZ",
        "colab_type": "code",
        "colab": {}
      },
      "cell_type": "code",
      "source": [
        "def IsCombOrPer(prompt):\n",
        "  while True:\n",
        "    response=input(prompt)\n",
        "\n",
        "    if(response=='c' or response=='C'):\n",
        "        return \"combination\"\n",
        "    elif(response=='p' or response=='P'):\n",
        "        return \"permutation\""
      ],
      "execution_count": 0,
      "outputs": []
    },
    {
      "metadata": {
        "id": "Xx26Ph2Ba2XT",
        "colab_type": "text"
      },
      "cell_type": "markdown",
      "source": [
        "### n in x li permütasyonunu veya  kombinasyonunu bulan program"
      ]
    },
    {
      "metadata": {
        "id": "HrObAtGsbJcT",
        "colab_type": "text"
      },
      "cell_type": "markdown",
      "source": [
        " -  Kişi D veya d tuşuna bastığı sürece programı tekrar başlatmadan girdiği sayıların permütasyonunu yada kombinasyonunu alabilecek.\n",
        " \n",
        " - Kişi ** 'c' / 'C' ** harflerine basarsa girilen sayıların kombinasyonu, ** 'p' / 'P' ** harflerine basarsa girilen sayıların permütasyonu hesaplanacaktır."
      ]
    },
    {
      "metadata": {
        "id": "X0WB6f7zaxcH",
        "colab_type": "code",
        "outputId": "7601718b-7d86-4c75-fa48-82dc572b3985",
        "colab": {
          "base_uri": "https://localhost:8080/",
          "height": 289
        }
      },
      "cell_type": "code",
      "source": [
        "\n",
        "isContinueProgram=True  \n",
        "while isContinueProgram:\n",
        "     n=isNumeric(\"n sayısını giriniz : \")\n",
        "     x=isNumeric(\"x sayısını giriniz : \")\n",
        "     \n",
        "     if n >= x:\n",
        "         option=IsCombOrPer(\"Kombinasyon işlemi için 'c' / 'C' ,permütasyon için 'p' / 'P' harfine basınız -> \") # yapilacak islem kombinasyon mu yoksa permütasyon mu\n",
        "\n",
        "         if(option==\"permutation\"):             \n",
        "             result=permutasyon(n,x)\n",
        "             print(n,\"in\",x,\"li permütasyonu=\",result)\n",
        "         else:\n",
        "             result=combination(n,x)\n",
        "             print(n,\"in\",x,\"li kombinasyonu=\",result)\n",
        "\n",
        "         print(\"------------------------------------------------------------\")\n",
        "     \n",
        "         decision=input(\"Devam etmek için 'D / d' tuşuna basınız ->\")\n",
        "\n",
        "         if decision=='D' or decision=='d':\n",
        "            isContinueProgram=True\n",
        "         else:\n",
        "            isContinueProgram=False\n",
        "     else :\n",
        "         print(\"n sayısı x sayısından küçük olamaz\")\n",
        "     "
      ],
      "execution_count": 0,
      "outputs": [
        {
          "output_type": "stream",
          "text": [
            "n sayısını giriniz : 6\n",
            "x sayısını giriniz : 2\n",
            "Kombinasyon işlemi için 'c' / 'C' ,permütasyon için 'p' / 'P' harfine basınız.g\n",
            "Kombinasyon işlemi için 'c' / 'C' ,permütasyon için 'p' / 'P' harfine basınız.s\n",
            "Kombinasyon işlemi için 'c' / 'C' ,permütasyon için 'p' / 'P' harfine basınız.c\n",
            "6.0 in 2.0 li kombinasyonu= 15.0\n",
            "------------------------------------------------------------\n",
            "Devam etmek için 'D / d' tuşuna basınız - >d\n",
            "n sayısını giriniz : d\n",
            "Lütfen sayısal değer giriniz\n",
            "n sayısını giriniz : 4\n",
            "x sayısını giriniz : 3\n",
            "Kombinasyon işlemi için 'c' / 'C' ,permütasyon için 'p' / 'P' harfine basınız.p\n",
            "4.0 in 3.0 li permütasyonu= 24.0\n",
            "------------------------------------------------------------\n",
            "Devam etmek için 'D / d' tuşuna basınız - >\n"
          ],
          "name": "stdout"
        }
      ]
    }
  ]
}