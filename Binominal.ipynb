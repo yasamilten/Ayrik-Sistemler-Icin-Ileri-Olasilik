{
  "nbformat": 4,
  "nbformat_minor": 0,
  "metadata": {
    "colab": {
      "name": "Untitled7.ipynb",
      "version": "0.3.2",
      "provenance": [],
      "include_colab_link": true
    },
    "kernelspec": {
      "name": "python3",
      "display_name": "Python 3"
    }
  },
  "cells": [
    {
      "cell_type": "markdown",
      "metadata": {
        "id": "view-in-github",
        "colab_type": "text"
      },
      "source": [
        "<a href=\"https://colab.research.google.com/github/yasamilten/Ayrik-Sistemler-Icin-Ileri-Olasilik/blob/master/Binominal.ipynb\" target=\"_parent\"><img src=\"https://colab.research.google.com/assets/colab-badge.svg\" alt=\"Open In Colab\"/></a>"
      ]
    },
    {
      "cell_type": "markdown",
      "metadata": {
        "id": "MrnO_WOQgCYv",
        "colab_type": "text"
      },
      "source": [
        "  # Binominal\n",
        "  \n",
        "  ## SORU:\n",
        "   10 kutu ilaçtan 5 kutusu asprindir. Bu 10 kutu ilaçtan 3 kutu alınıyor. Bu alınan 3 kutudan 2 sinin asprin olma olasılığı nedir?\n",
        "\n",
        "   ### ÇÖZÜM :\n",
        "       X rastgele degiskenin binomial dagılımı : X~Bin(n,p) \n",
        "       Binomial dagılımının olasılık fonksiyonu: P(X=k)= C(n,k).p^k(1-p)^(n-k)  k=1,2,3..... n\n",
        "\n",
        "       X~Bin(n = 3 , p = 0.5)\n",
        "       P(X=k)= C(n,k).p^k.(1-p)^(n-k)  k=2\n",
        "       P(X=2)= C(3,2).(0.5)^2(1-0.5)^(3-2) = (3!/2!.(3-2)!).(0.5)^3 = 0.375"
      ]
    },
    {
      "cell_type": "markdown",
      "metadata": {
        "id": "_WeYB-EfgU5n",
        "colab_type": "text"
      },
      "source": [
        "#### kombinasyon hesaplayan fonksiyon"
      ]
    },
    {
      "cell_type": "code",
      "metadata": {
        "id": "cLQxODWUgA7u",
        "colab_type": "code",
        "colab": {}
      },
      "source": [
        "def combination(n,r): \n",
        "    if n==0 or r==0:\n",
        "        return 1\n",
        "    else:\n",
        "        return factorial(n)/(factorial(n-r)*factorial(r))"
      ],
      "execution_count": 0,
      "outputs": []
    },
    {
      "cell_type": "markdown",
      "metadata": {
        "id": "ZAHyxzQ3gYj-",
        "colab_type": "text"
      },
      "source": [
        "#### faktoriyel hesaplayan fonksiyon"
      ]
    },
    {
      "cell_type": "code",
      "metadata": {
        "id": "99cnrIh8gbtc",
        "colab_type": "code",
        "colab": {}
      },
      "source": [
        "def factorial(number):  \n",
        "    fact = 1\n",
        "    while number >= 1:\n",
        "        fact = fact * number\n",
        "        number = number - 1\n",
        "    return fact\n"
      ],
      "execution_count": 0,
      "outputs": []
    },
    {
      "cell_type": "markdown",
      "metadata": {
        "id": "WdqMpUWWgpU7",
        "colab_type": "text"
      },
      "source": [
        "#### Üs alan fonksiyon"
      ]
    },
    {
      "cell_type": "code",
      "metadata": {
        "id": "7knWtgJNgsaK",
        "colab_type": "code",
        "colab": {}
      },
      "source": [
        "def usAl(taban,us):  #us alma fonksiyonu\n",
        "    sonuc=1\n",
        "\n",
        "    if us==0:\n",
        "        return 1\n",
        "    elif us>0:\n",
        "        while us>0:\n",
        "            sonuc=sonuc*taban\n",
        "            us-=1\n",
        "        return sonuc\n",
        "    elif us<0:\n",
        "        us=-1*us\n",
        "        while us>0:\n",
        "            sonuc=sonuc*taban\n",
        "            us-=1\n",
        "        return 1/sonuc"
      ],
      "execution_count": 0,
      "outputs": []
    },
    {
      "cell_type": "markdown",
      "metadata": {
        "id": "H3chpk5ygypZ",
        "colab_type": "text"
      },
      "source": [
        "#### Binomial dagılımının olasılık fonksiyonu"
      ]
    },
    {
      "cell_type": "code",
      "metadata": {
        "id": "UcrflFWZg1C2",
        "colab_type": "code",
        "colab": {}
      },
      "source": [
        "def olasiligiBul(k,n,p):  \n",
        "    sonuc=combination(n,k)*usAl(p,k)*usAl((1-p),(n-k)) #P(X=k)= C(n,k).p^k(1-p)^(n-k)  k=1,2,3..... n\n",
        "    return sonuc\n"
      ],
      "execution_count": 0,
      "outputs": []
    },
    {
      "cell_type": "code",
      "metadata": {
        "id": "rwzH1Iisg6e5",
        "colab_type": "code",
        "colab": {
          "base_uri": "https://localhost:8080/",
          "height": 51
        },
        "outputId": "d69c715f-42e2-4287-d194-07c4772c5a66"
      },
      "source": [
        "def main():\n",
        "    print(\"10 kutu ilaçtan 5 kutusu asprindir. Bu 10 kutu ilaçtan 3 kutu alınıyor. Bu alınan 3 kutudan 2 sinin asprin olma olasılığı nedir?\")\n",
        "    print(\"Sonuç: \",olasiligiBul(2,3,0.5))\n",
        "    \n",
        "    \n",
        "if __name__=='__main__':\n",
        "    main();"
      ],
      "execution_count": 14,
      "outputs": [
        {
          "output_type": "stream",
          "text": [
            "10 kutu ilaçtan 5 kutusu asprindir. Bu 10 kutu ilaçtan 3 kutu alınıyor. Bu alınan 3 kutudan 2 sinin asprin olma olasılığı nedir?\n",
            "Sonuç:  0.375\n"
          ],
          "name": "stdout"
        }
      ]
    }
  ]
}