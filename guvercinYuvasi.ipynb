{
  "nbformat": 4,
  "nbformat_minor": 0,
  "metadata": {
    "colab": {
      "name": "Untitled0.ipynb",
      "version": "0.3.2",
      "provenance": [],
      "collapsed_sections": [],
      "include_colab_link": true
    },
    "kernelspec": {
      "name": "python3",
      "display_name": "Python 3"
    }
  },
  "cells": [
    {
      "cell_type": "markdown",
      "metadata": {
        "id": "view-in-github",
        "colab_type": "text"
      },
      "source": [
        "<a href=\"https://colab.research.google.com/github/yasamilten/Ayrik-Sistemler-Icin-Ileri-Olasilik/blob/master/guvercinYuvasi.ipynb\" target=\"_parent\"><img src=\"https://colab.research.google.com/assets/colab-badge.svg\" alt=\"Open In Colab\"/></a>"
      ]
    },
    {
      "metadata": {
        "id": "ZwkhX1sUe5XE",
        "colab_type": "text"
      },
      "cell_type": "markdown",
      "source": [
        "**GÜVERCİN YUVASI PRENSİBİ**\n"
      ]
    },
    {
      "metadata": {
        "id": "0RlKWS5wfF3s",
        "colab_type": "text"
      },
      "cell_type": "markdown",
      "source": [
        "![first eqution](https://latex.codecogs.com/gif.latex?%5Clarge%20g%2Cy%20%5C%2C%20%5C%2C%20%5Cepsilon%20%5C%2C%20Z%5E%7B&plus;%7D)\n",
        "\n",
        "**g**: güvercin\n",
        "\n",
        "**y**: güvercin yuvası\n",
        "\n",
        "En az bir yuva **[g/y]** güvercin içerir.\n",
        "\n",
        ">**NOT:** g ≤ y olması durumunda dahi **[g/y]=1** olacaktır.\n",
        "\n",
        "### SORU\n",
        "\n",
        "“S={1,2,3,4,5,6,7,8,9} kümesinin 6 elamanlı her hangi bir altkümesinde toplamı 10 olan iki sayı vardır” ifadesini gösteriniz.\n",
        "\n",
        "### ÇÖZÜM\n",
        "\n",
        "Bu sorunun cevabında her zaman toplamı 10 olan en az bir ikili alınması gerektiğini göstermemiz gerekmektedir. Öncelikle S kümesinde toplamları 10 olan ikili grupları sıralayalım.\n",
        "\n",
        "* 1+9=10\n",
        "* 2+8=10\n",
        "* 3+7=10 \n",
        "* 4+6=10 \n",
        "* ve geriye yalnızca “5” sayısı kalmaktadır. \n",
        "\n",
        ">Sonuç olarak 10 toplamasını sağlayan 4 ikili ve ayrı kalan “5” ile 5 grup oluşur.\n",
        "\n",
        "\n",
        "**g(güvercin yuvası):** Sayıların seçilebileceği grup sayısı burada 5’tir.\n",
        "\n",
        "**y(güvercin):** Seçilecek elaman sayısı burada 6’dır.\n",
        "\n",
        "**g<=y olması durumunda [g/y]=1 olacaktır.**\n",
        "\n",
        "* 5<=6\n",
        "\n",
        "*  Bu durumda 5 gruptan 6 sayı almamız gerekmektedir. Güvercin yuvası ilkesine göre en az bir gruptan iki elaman almamız gerekir. Bu da, her zaman toplamı 10 olan en az bir ikili seçilecek demektir.\n",
        "\n",
        "\n"
      ]
    },
    {
      "metadata": {
        "id": "AsSQbI8bg1no",
        "colab_type": "text"
      },
      "cell_type": "markdown",
      "source": [
        "\n",
        "\n",
        "**Bu fonksiyona gelen dizi içerisindeki ikili sayılardan toplamı 10 olan ikili sayı adeti bulunur. Bulunan bu sayı bize güvercin yuvası sayısını verir.**\n",
        "\n"
      ]
    },
    {
      "metadata": {
        "id": "sHwcxRNZR3ye",
        "colab_type": "code",
        "colab": {}
      },
      "cell_type": "code",
      "source": [
        "def guvercinYuvasiSayisiniBul(dizi): \n",
        "    yuvaSayisi=0;\n",
        "    index=0;\n",
        "    i=1;\n",
        "\n",
        "    while i < len(dizi):\n",
        "        if (dizi[index]+dizi[i])==10 :\n",
        "            yuvaSayisi+=1;\n",
        "            dizi.remove(dizi[i]);\n",
        "            dizi.remove(dizi[index]);\n",
        "            i=1;\n",
        "        else:\n",
        "          i+=1;\n",
        "\n",
        "    if len(dizi)>0:\n",
        "        yuvaSayisi+=1;\n",
        "\n",
        "    return yuvaSayisi;\n",
        "\n"
      ],
      "execution_count": 0,
      "outputs": []
    },
    {
      "metadata": {
        "id": "Rf6fLrtOheZ7",
        "colab_type": "text"
      },
      "cell_type": "markdown",
      "source": [
        "** Bu fonksiyon güvercin yuvası prensibine göre sonuç bulur** "
      ]
    },
    {
      "metadata": {
        "id": "_3FnvDvIgcdP",
        "colab_type": "code",
        "colab": {}
      },
      "cell_type": "code",
      "source": [
        "\n",
        "def guvercinYuvasiPrensibi(guvercinSayisi,yuvaSayisi):\n",
        "    if guvercinSayisi<=yuvaSayisi:\n",
        "        return 1;\n",
        "    else:\n",
        "        return int(guvercinSayisi/yuvaSayisi);\n"
      ],
      "execution_count": 0,
      "outputs": []
    },
    {
      "metadata": {
        "id": "JAWlh-Xlge0e",
        "colab_type": "code",
        "colab": {
          "base_uri": "https://localhost:8080/",
          "height": 102
        },
        "outputId": "2f331048-8f3c-430f-ef7f-a812b7d8ae12"
      },
      "cell_type": "code",
      "source": [
        "def main():\n",
        "    print(\"“S={1,2,3,4,5,6,7,8,9} kümesinin 6 elamanlı her hangi bir altkümesinde toplamı 10 olan iki sayı vardır” ifadesini gösteriniz.\")\n",
        "    yuvaSayisi=guvercinYuvasiSayisiniBul([1,2,3,4,5,6,7,8,9])\n",
        "    guvercinSayisi=6; # 6 elemanlı herhangi bir altküme guvercin yuvası prensibine göre güvercin sayısına karşılık gelmektedir.\n",
        "    \n",
        "    sonuc=guvercinYuvasiPrensibi(guvercinSayisi,yuvaSayisi)\n",
        "    print(\"\\nGüvercin yuvası prensibine göre sonuç :\",sonuc);\n",
        "\n",
        "    print(\"\\nBu durumda 5 gruptan 6 sayı almamız gerekmektedir. Güvercin yuvası ilkesine göre en az bir gruptan iki elaman almamız gerekir. Bu da, her zaman toplamı 10 olan en az bir ikili seçilecek demektir.\")\n",
        "\n",
        "if __name__=='__main__':\n",
        "    main();"
      ],
      "execution_count": 3,
      "outputs": [
        {
          "output_type": "stream",
          "text": [
            "“S={1,2,3,4,5,6,7,8,9} kümesinin 6 elamanlı her hangi bir altkümesinde toplamı 10 olan iki sayı vardır” ifadesini gösteriniz.\n",
            "\n",
            "Güvercin yuvası prensibine göre sonuç : 1\n",
            "\n",
            "Bu durumda 5 gruptan 6 sayı almamız gerekmektedir. Güvercin yuvası ilkesine göre en az bir gruptan iki elaman almamız gerekir. Bu da, her zaman toplamı 10 olan en az bir ikili seçilecek demektir.\n"
          ],
          "name": "stdout"
        }
      ]
    }
  ]
}